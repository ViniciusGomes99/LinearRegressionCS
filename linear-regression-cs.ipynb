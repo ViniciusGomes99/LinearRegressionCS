{
 "cells": [
  {
   "cell_type": "markdown",
   "id": "087640b7",
   "metadata": {
    "_cell_guid": "26440a01-1a77-4212-b421-6064b6cfffec",
    "_uuid": "8dabf832-8016-404d-9fe2-7b0f36889b01",
    "papermill": {
     "duration": 0.024366,
     "end_time": "2022-03-28T18:13:10.270182",
     "exception": false,
     "start_time": "2022-03-28T18:13:10.245816",
     "status": "completed"
    },
    "tags": []
   },
   "source": [
    "# Regressão Linear Múltipla \n",
    "### Nesse arquivo iremos analisar a base de dados de \"stats\" de vários players de CS.\n",
    "### Com base nas informações, construiremos um modelo de regressão linear múltipla que será capaz de prever a quantidade de \"kills\" com base na na quantidade \"HS\" e de \"Damage\"."
   ]
  },
  {
   "cell_type": "code",
   "execution_count": 1,
   "id": "01bf282c",
   "metadata": {
    "_cell_guid": "82e4a47c-53b5-4fb2-b5b9-6623a13fa9df",
    "_uuid": "ff98d547-197e-496b-a60e-735b8935b4ad",
    "collapsed": false,
    "execution": {
     "iopub.execute_input": "2022-03-28T18:13:10.320951Z",
     "iopub.status.busy": "2022-03-28T18:13:10.319784Z",
     "iopub.status.idle": "2022-03-28T18:13:11.753864Z",
     "shell.execute_reply": "2022-03-28T18:13:11.753121Z",
     "shell.execute_reply.started": "2022-03-28T18:11:33.679647Z"
    },
    "jupyter": {
     "outputs_hidden": false
    },
    "papermill": {
     "duration": 1.460223,
     "end_time": "2022-03-28T18:13:11.754037",
     "exception": false,
     "start_time": "2022-03-28T18:13:10.293814",
     "status": "completed"
    },
    "tags": []
   },
   "outputs": [],
   "source": [
    "# importando as bibliotecas\n",
    "import numpy as np\n",
    "from sklearn.model_selection import train_test_split\n",
    "from sklearn.linear_model import LinearRegression\n",
    "from sklearn.metrics import accuracy_score\n",
    "import matplotlib.pyplot as plt\n",
    "import pandas as pd\n",
    "import seaborn as sns"
   ]
  },
  {
   "cell_type": "markdown",
   "id": "6d861087",
   "metadata": {
    "_cell_guid": "7f6e18d5-6e06-4dd4-a379-0582a6113b16",
    "_uuid": "db568534-634f-4351-9b28-4f75beb1c5a8",
    "papermill": {
     "duration": 0.022424,
     "end_time": "2022-03-28T18:13:11.798428",
     "exception": false,
     "start_time": "2022-03-28T18:13:11.776004",
     "status": "completed"
    },
    "tags": []
   },
   "source": [
    "### Vamos realizar uma análise exploratória dos dados inicialmente para sabermos algumas informações descritivas dos dados que iremos trabalhar."
   ]
  },
  {
   "cell_type": "code",
   "execution_count": 2,
   "id": "d6ebd6c3",
   "metadata": {
    "_cell_guid": "df78bff8-e5fa-4ad0-99ec-01731b8842d1",
    "_uuid": "45e39d9f-047b-4344-b4fa-d70eb8b89403",
    "collapsed": false,
    "execution": {
     "iopub.execute_input": "2022-03-28T18:13:11.849122Z",
     "iopub.status.busy": "2022-03-28T18:13:11.848365Z",
     "iopub.status.idle": "2022-03-28T18:13:13.511114Z",
     "shell.execute_reply": "2022-03-28T18:13:13.510545Z",
     "shell.execute_reply.started": "2022-03-28T18:11:34.977337Z"
    },
    "jupyter": {
     "outputs_hidden": false
    },
    "papermill": {
     "duration": 1.690512,
     "end_time": "2022-03-28T18:13:13.511256",
     "exception": false,
     "start_time": "2022-03-28T18:13:11.820744",
     "status": "completed"
    },
    "tags": []
   },
   "outputs": [
    {
     "data": {
      "text/html": [
       "<div>\n",
       "<style scoped>\n",
       "    .dataframe tbody tr th:only-of-type {\n",
       "        vertical-align: middle;\n",
       "    }\n",
       "\n",
       "    .dataframe tbody tr th {\n",
       "        vertical-align: top;\n",
       "    }\n",
       "\n",
       "    .dataframe thead th {\n",
       "        text-align: right;\n",
       "    }\n",
       "</style>\n",
       "<table border=\"1\" class=\"dataframe\">\n",
       "  <thead>\n",
       "    <tr style=\"text-align: right;\">\n",
       "      <th></th>\n",
       "      <th>idLobbyGame</th>\n",
       "      <th>idPlayer</th>\n",
       "      <th>idRoom</th>\n",
       "      <th>qtKill</th>\n",
       "      <th>qtAssist</th>\n",
       "      <th>qtDeath</th>\n",
       "      <th>qtHs</th>\n",
       "      <th>qtBombeDefuse</th>\n",
       "      <th>qtBombePlant</th>\n",
       "      <th>qtTk</th>\n",
       "      <th>...</th>\n",
       "      <th>qtFlashAssist</th>\n",
       "      <th>qtHitHeadshot</th>\n",
       "      <th>qtHitChest</th>\n",
       "      <th>qtHitStomach</th>\n",
       "      <th>qtHitLeftAtm</th>\n",
       "      <th>qtHitRightArm</th>\n",
       "      <th>qtHitLeftLeg</th>\n",
       "      <th>qtHitRightLeg</th>\n",
       "      <th>flWinner</th>\n",
       "      <th>dtCreatedAt</th>\n",
       "    </tr>\n",
       "  </thead>\n",
       "  <tbody>\n",
       "    <tr>\n",
       "      <th>0</th>\n",
       "      <td>1</td>\n",
       "      <td>1</td>\n",
       "      <td>1</td>\n",
       "      <td>5</td>\n",
       "      <td>1</td>\n",
       "      <td>16</td>\n",
       "      <td>2</td>\n",
       "      <td>0</td>\n",
       "      <td>0</td>\n",
       "      <td>0.0</td>\n",
       "      <td>...</td>\n",
       "      <td>0.0</td>\n",
       "      <td>3.0</td>\n",
       "      <td>13.0</td>\n",
       "      <td>4.0</td>\n",
       "      <td>2.0</td>\n",
       "      <td>2.0</td>\n",
       "      <td>1.0</td>\n",
       "      <td>0.0</td>\n",
       "      <td>0</td>\n",
       "      <td>2022-01-21 19:45:44</td>\n",
       "    </tr>\n",
       "    <tr>\n",
       "      <th>1</th>\n",
       "      <td>2</td>\n",
       "      <td>1</td>\n",
       "      <td>2</td>\n",
       "      <td>24</td>\n",
       "      <td>3</td>\n",
       "      <td>18</td>\n",
       "      <td>6</td>\n",
       "      <td>0</td>\n",
       "      <td>4</td>\n",
       "      <td>0.0</td>\n",
       "      <td>...</td>\n",
       "      <td>0.0</td>\n",
       "      <td>7.0</td>\n",
       "      <td>26.0</td>\n",
       "      <td>14.0</td>\n",
       "      <td>2.0</td>\n",
       "      <td>1.0</td>\n",
       "      <td>1.0</td>\n",
       "      <td>3.0</td>\n",
       "      <td>1</td>\n",
       "      <td>2022-02-04 02:09:47</td>\n",
       "    </tr>\n",
       "    <tr>\n",
       "      <th>2</th>\n",
       "      <td>3</td>\n",
       "      <td>2</td>\n",
       "      <td>3</td>\n",
       "      <td>6</td>\n",
       "      <td>4</td>\n",
       "      <td>23</td>\n",
       "      <td>2</td>\n",
       "      <td>0</td>\n",
       "      <td>1</td>\n",
       "      <td>0.0</td>\n",
       "      <td>...</td>\n",
       "      <td>0.0</td>\n",
       "      <td>3.0</td>\n",
       "      <td>15.0</td>\n",
       "      <td>8.0</td>\n",
       "      <td>1.0</td>\n",
       "      <td>2.0</td>\n",
       "      <td>0.0</td>\n",
       "      <td>2.0</td>\n",
       "      <td>0</td>\n",
       "      <td>2021-09-18 18:07:43</td>\n",
       "    </tr>\n",
       "    <tr>\n",
       "      <th>3</th>\n",
       "      <td>3</td>\n",
       "      <td>391</td>\n",
       "      <td>27508</td>\n",
       "      <td>10</td>\n",
       "      <td>5</td>\n",
       "      <td>20</td>\n",
       "      <td>4</td>\n",
       "      <td>1</td>\n",
       "      <td>0</td>\n",
       "      <td>0.0</td>\n",
       "      <td>...</td>\n",
       "      <td>0.0</td>\n",
       "      <td>6.0</td>\n",
       "      <td>27.0</td>\n",
       "      <td>10.0</td>\n",
       "      <td>1.0</td>\n",
       "      <td>7.0</td>\n",
       "      <td>6.0</td>\n",
       "      <td>6.0</td>\n",
       "      <td>1</td>\n",
       "      <td>2021-09-18 18:07:43</td>\n",
       "    </tr>\n",
       "    <tr>\n",
       "      <th>4</th>\n",
       "      <td>4</td>\n",
       "      <td>2</td>\n",
       "      <td>4</td>\n",
       "      <td>8</td>\n",
       "      <td>4</td>\n",
       "      <td>26</td>\n",
       "      <td>6</td>\n",
       "      <td>0</td>\n",
       "      <td>2</td>\n",
       "      <td>0.0</td>\n",
       "      <td>...</td>\n",
       "      <td>2.0</td>\n",
       "      <td>8.0</td>\n",
       "      <td>19.0</td>\n",
       "      <td>12.0</td>\n",
       "      <td>2.0</td>\n",
       "      <td>3.0</td>\n",
       "      <td>2.0</td>\n",
       "      <td>5.0</td>\n",
       "      <td>0</td>\n",
       "      <td>2021-09-27 00:17:45</td>\n",
       "    </tr>\n",
       "    <tr>\n",
       "      <th>...</th>\n",
       "      <td>...</td>\n",
       "      <td>...</td>\n",
       "      <td>...</td>\n",
       "      <td>...</td>\n",
       "      <td>...</td>\n",
       "      <td>...</td>\n",
       "      <td>...</td>\n",
       "      <td>...</td>\n",
       "      <td>...</td>\n",
       "      <td>...</td>\n",
       "      <td>...</td>\n",
       "      <td>...</td>\n",
       "      <td>...</td>\n",
       "      <td>...</td>\n",
       "      <td>...</td>\n",
       "      <td>...</td>\n",
       "      <td>...</td>\n",
       "      <td>...</td>\n",
       "      <td>...</td>\n",
       "      <td>...</td>\n",
       "      <td>...</td>\n",
       "    </tr>\n",
       "    <tr>\n",
       "      <th>184147</th>\n",
       "      <td>172907</td>\n",
       "      <td>2716</td>\n",
       "      <td>178496</td>\n",
       "      <td>21</td>\n",
       "      <td>3</td>\n",
       "      <td>13</td>\n",
       "      <td>5</td>\n",
       "      <td>1</td>\n",
       "      <td>1</td>\n",
       "      <td>0.0</td>\n",
       "      <td>...</td>\n",
       "      <td>0.0</td>\n",
       "      <td>7.0</td>\n",
       "      <td>42.0</td>\n",
       "      <td>26.0</td>\n",
       "      <td>1.0</td>\n",
       "      <td>4.0</td>\n",
       "      <td>6.0</td>\n",
       "      <td>2.0</td>\n",
       "      <td>1</td>\n",
       "      <td>2021-11-27 16:47:57</td>\n",
       "    </tr>\n",
       "    <tr>\n",
       "      <th>184148</th>\n",
       "      <td>172908</td>\n",
       "      <td>2716</td>\n",
       "      <td>178497</td>\n",
       "      <td>15</td>\n",
       "      <td>1</td>\n",
       "      <td>22</td>\n",
       "      <td>5</td>\n",
       "      <td>0</td>\n",
       "      <td>1</td>\n",
       "      <td>0.0</td>\n",
       "      <td>...</td>\n",
       "      <td>0.0</td>\n",
       "      <td>5.0</td>\n",
       "      <td>21.0</td>\n",
       "      <td>21.0</td>\n",
       "      <td>3.0</td>\n",
       "      <td>7.0</td>\n",
       "      <td>2.0</td>\n",
       "      <td>4.0</td>\n",
       "      <td>1</td>\n",
       "      <td>2021-12-10 01:08:48</td>\n",
       "    </tr>\n",
       "    <tr>\n",
       "      <th>184149</th>\n",
       "      <td>172909</td>\n",
       "      <td>2716</td>\n",
       "      <td>178498</td>\n",
       "      <td>9</td>\n",
       "      <td>6</td>\n",
       "      <td>23</td>\n",
       "      <td>2</td>\n",
       "      <td>0</td>\n",
       "      <td>3</td>\n",
       "      <td>0.0</td>\n",
       "      <td>...</td>\n",
       "      <td>0.0</td>\n",
       "      <td>3.0</td>\n",
       "      <td>25.0</td>\n",
       "      <td>12.0</td>\n",
       "      <td>1.0</td>\n",
       "      <td>5.0</td>\n",
       "      <td>6.0</td>\n",
       "      <td>7.0</td>\n",
       "      <td>0</td>\n",
       "      <td>2022-01-09 21:01:10</td>\n",
       "    </tr>\n",
       "    <tr>\n",
       "      <th>184150</th>\n",
       "      <td>172910</td>\n",
       "      <td>2716</td>\n",
       "      <td>178499</td>\n",
       "      <td>15</td>\n",
       "      <td>5</td>\n",
       "      <td>20</td>\n",
       "      <td>6</td>\n",
       "      <td>0</td>\n",
       "      <td>2</td>\n",
       "      <td>0.0</td>\n",
       "      <td>...</td>\n",
       "      <td>1.0</td>\n",
       "      <td>8.0</td>\n",
       "      <td>22.0</td>\n",
       "      <td>16.0</td>\n",
       "      <td>2.0</td>\n",
       "      <td>8.0</td>\n",
       "      <td>3.0</td>\n",
       "      <td>6.0</td>\n",
       "      <td>0</td>\n",
       "      <td>2022-01-14 17:42:37</td>\n",
       "    </tr>\n",
       "    <tr>\n",
       "      <th>184151</th>\n",
       "      <td>172911</td>\n",
       "      <td>2716</td>\n",
       "      <td>178500</td>\n",
       "      <td>12</td>\n",
       "      <td>6</td>\n",
       "      <td>11</td>\n",
       "      <td>4</td>\n",
       "      <td>0</td>\n",
       "      <td>1</td>\n",
       "      <td>0.0</td>\n",
       "      <td>...</td>\n",
       "      <td>0.0</td>\n",
       "      <td>7.0</td>\n",
       "      <td>17.0</td>\n",
       "      <td>9.0</td>\n",
       "      <td>5.0</td>\n",
       "      <td>4.0</td>\n",
       "      <td>6.0</td>\n",
       "      <td>1.0</td>\n",
       "      <td>1</td>\n",
       "      <td>2022-01-18 02:39:01</td>\n",
       "    </tr>\n",
       "  </tbody>\n",
       "</table>\n",
       "<p>184152 rows × 38 columns</p>\n",
       "</div>"
      ],
      "text/plain": [
       "        idLobbyGame  idPlayer  idRoom  qtKill  qtAssist  qtDeath  qtHs  \\\n",
       "0                 1         1       1       5         1       16     2   \n",
       "1                 2         1       2      24         3       18     6   \n",
       "2                 3         2       3       6         4       23     2   \n",
       "3                 3       391   27508      10         5       20     4   \n",
       "4                 4         2       4       8         4       26     6   \n",
       "...             ...       ...     ...     ...       ...      ...   ...   \n",
       "184147       172907      2716  178496      21         3       13     5   \n",
       "184148       172908      2716  178497      15         1       22     5   \n",
       "184149       172909      2716  178498       9         6       23     2   \n",
       "184150       172910      2716  178499      15         5       20     6   \n",
       "184151       172911      2716  178500      12         6       11     4   \n",
       "\n",
       "        qtBombeDefuse  qtBombePlant  qtTk  ...  qtFlashAssist  qtHitHeadshot  \\\n",
       "0                   0             0   0.0  ...            0.0            3.0   \n",
       "1                   0             4   0.0  ...            0.0            7.0   \n",
       "2                   0             1   0.0  ...            0.0            3.0   \n",
       "3                   1             0   0.0  ...            0.0            6.0   \n",
       "4                   0             2   0.0  ...            2.0            8.0   \n",
       "...               ...           ...   ...  ...            ...            ...   \n",
       "184147              1             1   0.0  ...            0.0            7.0   \n",
       "184148              0             1   0.0  ...            0.0            5.0   \n",
       "184149              0             3   0.0  ...            0.0            3.0   \n",
       "184150              0             2   0.0  ...            1.0            8.0   \n",
       "184151              0             1   0.0  ...            0.0            7.0   \n",
       "\n",
       "        qtHitChest  qtHitStomach  qtHitLeftAtm  qtHitRightArm  qtHitLeftLeg  \\\n",
       "0             13.0           4.0           2.0            2.0           1.0   \n",
       "1             26.0          14.0           2.0            1.0           1.0   \n",
       "2             15.0           8.0           1.0            2.0           0.0   \n",
       "3             27.0          10.0           1.0            7.0           6.0   \n",
       "4             19.0          12.0           2.0            3.0           2.0   \n",
       "...            ...           ...           ...            ...           ...   \n",
       "184147        42.0          26.0           1.0            4.0           6.0   \n",
       "184148        21.0          21.0           3.0            7.0           2.0   \n",
       "184149        25.0          12.0           1.0            5.0           6.0   \n",
       "184150        22.0          16.0           2.0            8.0           3.0   \n",
       "184151        17.0           9.0           5.0            4.0           6.0   \n",
       "\n",
       "        qtHitRightLeg  flWinner          dtCreatedAt  \n",
       "0                 0.0         0  2022-01-21 19:45:44  \n",
       "1                 3.0         1  2022-02-04 02:09:47  \n",
       "2                 2.0         0  2021-09-18 18:07:43  \n",
       "3                 6.0         1  2021-09-18 18:07:43  \n",
       "4                 5.0         0  2021-09-27 00:17:45  \n",
       "...               ...       ...                  ...  \n",
       "184147            2.0         1  2021-11-27 16:47:57  \n",
       "184148            4.0         1  2021-12-10 01:08:48  \n",
       "184149            7.0         0  2022-01-09 21:01:10  \n",
       "184150            6.0         0  2022-01-14 17:42:37  \n",
       "184151            1.0         1  2022-01-18 02:39:01  \n",
       "\n",
       "[184152 rows x 38 columns]"
      ]
     },
     "metadata": {},
     "output_type": "display_data"
    },
    {
     "name": "stdout",
     "output_type": "stream",
     "text": [
      "<class 'pandas.core.frame.DataFrame'>\n",
      "RangeIndex: 184152 entries, 0 to 184151\n",
      "Data columns (total 38 columns):\n",
      " #   Column          Non-Null Count   Dtype  \n",
      "---  ------          --------------   -----  \n",
      " 0   idLobbyGame     184152 non-null  int64  \n",
      " 1   idPlayer        184152 non-null  int64  \n",
      " 2   idRoom          184152 non-null  int64  \n",
      " 3   qtKill          184152 non-null  int64  \n",
      " 4   qtAssist        184152 non-null  int64  \n",
      " 5   qtDeath         184152 non-null  int64  \n",
      " 6   qtHs            184152 non-null  int64  \n",
      " 7   qtBombeDefuse   184152 non-null  int64  \n",
      " 8   qtBombePlant    184152 non-null  int64  \n",
      " 9   qtTk            184032 non-null  float64\n",
      " 10  qtTkAssist      184032 non-null  float64\n",
      " 11  qt1Kill         184152 non-null  int64  \n",
      " 12  qt2Kill         184152 non-null  int64  \n",
      " 13  qt3Kill         184152 non-null  int64  \n",
      " 14  qt4Kill         184152 non-null  int64  \n",
      " 15  qt5Kill         184152 non-null  int64  \n",
      " 16  qtPlusKill      184152 non-null  int64  \n",
      " 17  qtFirstKill     184152 non-null  int64  \n",
      " 18  vlDamage        184152 non-null  int64  \n",
      " 19  qtHits          184032 non-null  float64\n",
      " 20  qtShots         184152 non-null  int64  \n",
      " 21  qtLastAlive     184032 non-null  float64\n",
      " 22  qtClutchWon     184152 non-null  int64  \n",
      " 23  qtRoundsPlayed  184152 non-null  int64  \n",
      " 24  descMapName     184152 non-null  object \n",
      " 25  vlLevel         184152 non-null  int64  \n",
      " 26  qtSurvived      183447 non-null  float64\n",
      " 27  qtTrade         183447 non-null  float64\n",
      " 28  qtFlashAssist   183447 non-null  float64\n",
      " 29  qtHitHeadshot   183447 non-null  float64\n",
      " 30  qtHitChest      183447 non-null  float64\n",
      " 31  qtHitStomach    183447 non-null  float64\n",
      " 32  qtHitLeftAtm    183447 non-null  float64\n",
      " 33  qtHitRightArm   183447 non-null  float64\n",
      " 34  qtHitLeftLeg    183447 non-null  float64\n",
      " 35  qtHitRightLeg   183447 non-null  float64\n",
      " 36  flWinner        184152 non-null  int64  \n",
      " 37  dtCreatedAt     184152 non-null  object \n",
      "dtypes: float64(14), int64(22), object(2)\n",
      "memory usage: 53.4+ MB\n"
     ]
    },
    {
     "data": {
      "text/html": [
       "<div>\n",
       "<style scoped>\n",
       "    .dataframe tbody tr th:only-of-type {\n",
       "        vertical-align: middle;\n",
       "    }\n",
       "\n",
       "    .dataframe tbody tr th {\n",
       "        vertical-align: top;\n",
       "    }\n",
       "\n",
       "    .dataframe thead th {\n",
       "        text-align: right;\n",
       "    }\n",
       "</style>\n",
       "<table border=\"1\" class=\"dataframe\">\n",
       "  <thead>\n",
       "    <tr style=\"text-align: right;\">\n",
       "      <th></th>\n",
       "      <th>idLobbyGame</th>\n",
       "      <th>idPlayer</th>\n",
       "      <th>idRoom</th>\n",
       "      <th>qtKill</th>\n",
       "      <th>qtAssist</th>\n",
       "      <th>qtDeath</th>\n",
       "      <th>qtHs</th>\n",
       "      <th>qtBombeDefuse</th>\n",
       "      <th>qtBombePlant</th>\n",
       "      <th>qtTk</th>\n",
       "      <th>...</th>\n",
       "      <th>qtTrade</th>\n",
       "      <th>qtFlashAssist</th>\n",
       "      <th>qtHitHeadshot</th>\n",
       "      <th>qtHitChest</th>\n",
       "      <th>qtHitStomach</th>\n",
       "      <th>qtHitLeftAtm</th>\n",
       "      <th>qtHitRightArm</th>\n",
       "      <th>qtHitLeftLeg</th>\n",
       "      <th>qtHitRightLeg</th>\n",
       "      <th>flWinner</th>\n",
       "    </tr>\n",
       "  </thead>\n",
       "  <tbody>\n",
       "    <tr>\n",
       "      <th>count</th>\n",
       "      <td>184152.000000</td>\n",
       "      <td>184152.000000</td>\n",
       "      <td>184152.000000</td>\n",
       "      <td>184152.000000</td>\n",
       "      <td>184152.000000</td>\n",
       "      <td>184152.000000</td>\n",
       "      <td>184152.000000</td>\n",
       "      <td>184152.000000</td>\n",
       "      <td>184152.000000</td>\n",
       "      <td>184032.000000</td>\n",
       "      <td>...</td>\n",
       "      <td>183447.000000</td>\n",
       "      <td>183447.000000</td>\n",
       "      <td>183447.000000</td>\n",
       "      <td>183447.000000</td>\n",
       "      <td>183447.000000</td>\n",
       "      <td>183447.000000</td>\n",
       "      <td>183447.000000</td>\n",
       "      <td>183447.000000</td>\n",
       "      <td>183447.000000</td>\n",
       "      <td>184152.000000</td>\n",
       "    </tr>\n",
       "    <tr>\n",
       "      <th>mean</th>\n",
       "      <td>84720.886854</td>\n",
       "      <td>1361.148622</td>\n",
       "      <td>88343.226248</td>\n",
       "      <td>19.113531</td>\n",
       "      <td>3.756033</td>\n",
       "      <td>18.792459</td>\n",
       "      <td>7.640123</td>\n",
       "      <td>0.316054</td>\n",
       "      <td>1.321349</td>\n",
       "      <td>0.022463</td>\n",
       "      <td>...</td>\n",
       "      <td>3.095254</td>\n",
       "      <td>0.570012</td>\n",
       "      <td>9.642889</td>\n",
       "      <td>29.305194</td>\n",
       "      <td>13.525509</td>\n",
       "      <td>1.902511</td>\n",
       "      <td>5.106091</td>\n",
       "      <td>2.265641</td>\n",
       "      <td>2.496509</td>\n",
       "      <td>0.493766</td>\n",
       "    </tr>\n",
       "    <tr>\n",
       "      <th>std</th>\n",
       "      <td>49931.048091</td>\n",
       "      <td>784.157397</td>\n",
       "      <td>51564.451107</td>\n",
       "      <td>7.481041</td>\n",
       "      <td>2.205265</td>\n",
       "      <td>5.211614</td>\n",
       "      <td>4.042324</td>\n",
       "      <td>0.575803</td>\n",
       "      <td>1.336699</td>\n",
       "      <td>0.156566</td>\n",
       "      <td>...</td>\n",
       "      <td>1.885027</td>\n",
       "      <td>0.906774</td>\n",
       "      <td>4.769723</td>\n",
       "      <td>11.657993</td>\n",
       "      <td>7.102067</td>\n",
       "      <td>1.650325</td>\n",
       "      <td>2.924184</td>\n",
       "      <td>2.062294</td>\n",
       "      <td>2.162557</td>\n",
       "      <td>0.499962</td>\n",
       "    </tr>\n",
       "    <tr>\n",
       "      <th>min</th>\n",
       "      <td>1.000000</td>\n",
       "      <td>1.000000</td>\n",
       "      <td>1.000000</td>\n",
       "      <td>0.000000</td>\n",
       "      <td>0.000000</td>\n",
       "      <td>0.000000</td>\n",
       "      <td>0.000000</td>\n",
       "      <td>0.000000</td>\n",
       "      <td>0.000000</td>\n",
       "      <td>0.000000</td>\n",
       "      <td>...</td>\n",
       "      <td>0.000000</td>\n",
       "      <td>0.000000</td>\n",
       "      <td>0.000000</td>\n",
       "      <td>0.000000</td>\n",
       "      <td>0.000000</td>\n",
       "      <td>0.000000</td>\n",
       "      <td>0.000000</td>\n",
       "      <td>0.000000</td>\n",
       "      <td>0.000000</td>\n",
       "      <td>0.000000</td>\n",
       "    </tr>\n",
       "    <tr>\n",
       "      <th>25%</th>\n",
       "      <td>41399.750000</td>\n",
       "      <td>676.000000</td>\n",
       "      <td>43742.750000</td>\n",
       "      <td>14.000000</td>\n",
       "      <td>2.000000</td>\n",
       "      <td>16.000000</td>\n",
       "      <td>5.000000</td>\n",
       "      <td>0.000000</td>\n",
       "      <td>0.000000</td>\n",
       "      <td>0.000000</td>\n",
       "      <td>...</td>\n",
       "      <td>2.000000</td>\n",
       "      <td>0.000000</td>\n",
       "      <td>6.000000</td>\n",
       "      <td>21.000000</td>\n",
       "      <td>8.000000</td>\n",
       "      <td>1.000000</td>\n",
       "      <td>3.000000</td>\n",
       "      <td>1.000000</td>\n",
       "      <td>1.000000</td>\n",
       "      <td>0.000000</td>\n",
       "    </tr>\n",
       "    <tr>\n",
       "      <th>50%</th>\n",
       "      <td>83838.500000</td>\n",
       "      <td>1388.000000</td>\n",
       "      <td>87877.500000</td>\n",
       "      <td>19.000000</td>\n",
       "      <td>4.000000</td>\n",
       "      <td>19.000000</td>\n",
       "      <td>7.000000</td>\n",
       "      <td>0.000000</td>\n",
       "      <td>1.000000</td>\n",
       "      <td>0.000000</td>\n",
       "      <td>...</td>\n",
       "      <td>3.000000</td>\n",
       "      <td>0.000000</td>\n",
       "      <td>9.000000</td>\n",
       "      <td>28.000000</td>\n",
       "      <td>13.000000</td>\n",
       "      <td>2.000000</td>\n",
       "      <td>5.000000</td>\n",
       "      <td>2.000000</td>\n",
       "      <td>2.000000</td>\n",
       "      <td>0.000000</td>\n",
       "    </tr>\n",
       "    <tr>\n",
       "      <th>75%</th>\n",
       "      <td>127911.250000</td>\n",
       "      <td>2061.000000</td>\n",
       "      <td>133000.250000</td>\n",
       "      <td>24.000000</td>\n",
       "      <td>5.000000</td>\n",
       "      <td>22.000000</td>\n",
       "      <td>10.000000</td>\n",
       "      <td>1.000000</td>\n",
       "      <td>2.000000</td>\n",
       "      <td>0.000000</td>\n",
       "      <td>...</td>\n",
       "      <td>4.000000</td>\n",
       "      <td>1.000000</td>\n",
       "      <td>12.000000</td>\n",
       "      <td>36.000000</td>\n",
       "      <td>18.000000</td>\n",
       "      <td>3.000000</td>\n",
       "      <td>7.000000</td>\n",
       "      <td>3.000000</td>\n",
       "      <td>4.000000</td>\n",
       "      <td>1.000000</td>\n",
       "    </tr>\n",
       "    <tr>\n",
       "      <th>max</th>\n",
       "      <td>172911.000000</td>\n",
       "      <td>2716.000000</td>\n",
       "      <td>178500.000000</td>\n",
       "      <td>85.000000</td>\n",
       "      <td>24.000000</td>\n",
       "      <td>65.000000</td>\n",
       "      <td>41.000000</td>\n",
       "      <td>5.000000</td>\n",
       "      <td>12.000000</td>\n",
       "      <td>12.000000</td>\n",
       "      <td>...</td>\n",
       "      <td>20.000000</td>\n",
       "      <td>14.000000</td>\n",
       "      <td>49.000000</td>\n",
       "      <td>122.000000</td>\n",
       "      <td>77.000000</td>\n",
       "      <td>17.000000</td>\n",
       "      <td>30.000000</td>\n",
       "      <td>21.000000</td>\n",
       "      <td>22.000000</td>\n",
       "      <td>1.000000</td>\n",
       "    </tr>\n",
       "  </tbody>\n",
       "</table>\n",
       "<p>8 rows × 36 columns</p>\n",
       "</div>"
      ],
      "text/plain": [
       "         idLobbyGame       idPlayer         idRoom         qtKill  \\\n",
       "count  184152.000000  184152.000000  184152.000000  184152.000000   \n",
       "mean    84720.886854    1361.148622   88343.226248      19.113531   \n",
       "std     49931.048091     784.157397   51564.451107       7.481041   \n",
       "min         1.000000       1.000000       1.000000       0.000000   \n",
       "25%     41399.750000     676.000000   43742.750000      14.000000   \n",
       "50%     83838.500000    1388.000000   87877.500000      19.000000   \n",
       "75%    127911.250000    2061.000000  133000.250000      24.000000   \n",
       "max    172911.000000    2716.000000  178500.000000      85.000000   \n",
       "\n",
       "            qtAssist        qtDeath           qtHs  qtBombeDefuse  \\\n",
       "count  184152.000000  184152.000000  184152.000000  184152.000000   \n",
       "mean        3.756033      18.792459       7.640123       0.316054   \n",
       "std         2.205265       5.211614       4.042324       0.575803   \n",
       "min         0.000000       0.000000       0.000000       0.000000   \n",
       "25%         2.000000      16.000000       5.000000       0.000000   \n",
       "50%         4.000000      19.000000       7.000000       0.000000   \n",
       "75%         5.000000      22.000000      10.000000       1.000000   \n",
       "max        24.000000      65.000000      41.000000       5.000000   \n",
       "\n",
       "        qtBombePlant           qtTk  ...        qtTrade  qtFlashAssist  \\\n",
       "count  184152.000000  184032.000000  ...  183447.000000  183447.000000   \n",
       "mean        1.321349       0.022463  ...       3.095254       0.570012   \n",
       "std         1.336699       0.156566  ...       1.885027       0.906774   \n",
       "min         0.000000       0.000000  ...       0.000000       0.000000   \n",
       "25%         0.000000       0.000000  ...       2.000000       0.000000   \n",
       "50%         1.000000       0.000000  ...       3.000000       0.000000   \n",
       "75%         2.000000       0.000000  ...       4.000000       1.000000   \n",
       "max        12.000000      12.000000  ...      20.000000      14.000000   \n",
       "\n",
       "       qtHitHeadshot     qtHitChest   qtHitStomach   qtHitLeftAtm  \\\n",
       "count  183447.000000  183447.000000  183447.000000  183447.000000   \n",
       "mean        9.642889      29.305194      13.525509       1.902511   \n",
       "std         4.769723      11.657993       7.102067       1.650325   \n",
       "min         0.000000       0.000000       0.000000       0.000000   \n",
       "25%         6.000000      21.000000       8.000000       1.000000   \n",
       "50%         9.000000      28.000000      13.000000       2.000000   \n",
       "75%        12.000000      36.000000      18.000000       3.000000   \n",
       "max        49.000000     122.000000      77.000000      17.000000   \n",
       "\n",
       "       qtHitRightArm   qtHitLeftLeg  qtHitRightLeg       flWinner  \n",
       "count  183447.000000  183447.000000  183447.000000  184152.000000  \n",
       "mean        5.106091       2.265641       2.496509       0.493766  \n",
       "std         2.924184       2.062294       2.162557       0.499962  \n",
       "min         0.000000       0.000000       0.000000       0.000000  \n",
       "25%         3.000000       1.000000       1.000000       0.000000  \n",
       "50%         5.000000       2.000000       2.000000       0.000000  \n",
       "75%         7.000000       3.000000       4.000000       1.000000  \n",
       "max        30.000000      21.000000      22.000000       1.000000  \n",
       "\n",
       "[8 rows x 36 columns]"
      ]
     },
     "execution_count": 2,
     "metadata": {},
     "output_type": "execute_result"
    }
   ],
   "source": [
    "data = pd.read_csv(\"../input/brazilian-csgo-plataform-dataset-by-gamers-club/tb_lobby_stats_player.csv\")\n",
    "display(data)\n",
    "data.info()\n",
    "data.describe()"
   ]
  },
  {
   "cell_type": "markdown",
   "id": "b2dbf586",
   "metadata": {
    "_cell_guid": "cea2e338-9423-4f67-b548-874d47af66d2",
    "_uuid": "fa4f03dd-e3ba-4a45-9d84-30fff058c4c0",
    "papermill": {
     "duration": 0.023951,
     "end_time": "2022-03-28T18:13:13.559932",
     "exception": false,
     "start_time": "2022-03-28T18:13:13.535981",
     "status": "completed"
    },
    "tags": []
   },
   "source": [
    "### Nos gráficos abaixo, podemos observar os coeficientes de correlação de Pearson, onde é possível identificar as variáveis que mais se correlacionam positivamente com a nossa variável dependente, no caso a quantidade \"Kill\". Observamos que as variáveis \"vlDamage\" e \"qtHs\" possuem os índices de correlação mais altos, e por isso vamos utiliza-lás para treinar o nosso modelo."
   ]
  },
  {
   "cell_type": "code",
   "execution_count": 3,
   "id": "6ba4ac9c",
   "metadata": {
    "_cell_guid": "39e70d88-3fc8-453e-8e3c-6cd0e71f8c67",
    "_uuid": "8e2a7862-3988-429c-b5ac-df4a33a60e89",
    "collapsed": false,
    "execution": {
     "iopub.execute_input": "2022-03-28T18:13:13.613884Z",
     "iopub.status.busy": "2022-03-28T18:13:13.613173Z",
     "iopub.status.idle": "2022-03-28T18:13:13.721036Z",
     "shell.execute_reply": "2022-03-28T18:13:13.721750Z",
     "shell.execute_reply.started": "2022-03-28T18:11:36.201552Z"
    },
    "jupyter": {
     "outputs_hidden": false
    },
    "papermill": {
     "duration": 0.137794,
     "end_time": "2022-03-28T18:13:13.721961",
     "exception": false,
     "start_time": "2022-03-28T18:13:13.584167",
     "status": "completed"
    },
    "tags": []
   },
   "outputs": [
    {
     "data": {
      "text/html": [
       "<style type=\"text/css\">\n",
       "#T_37c97_row0_col0, #T_37c97_row1_col1, #T_37c97_row2_col2, #T_37c97_row3_col3, #T_37c97_row4_col4 {\n",
       "  background-color: #b40426;\n",
       "  color: #f1f1f1;\n",
       "}\n",
       "#T_37c97_row0_col1 {\n",
       "  background-color: #5b7ae5;\n",
       "  color: #f1f1f1;\n",
       "}\n",
       "#T_37c97_row0_col2 {\n",
       "  background-color: #5977e3;\n",
       "  color: #f1f1f1;\n",
       "}\n",
       "#T_37c97_row0_col3 {\n",
       "  background-color: #f7b194;\n",
       "  color: #000000;\n",
       "}\n",
       "#T_37c97_row0_col4 {\n",
       "  background-color: #cd423b;\n",
       "  color: #f1f1f1;\n",
       "}\n",
       "#T_37c97_row1_col0, #T_37c97_row1_col3, #T_37c97_row2_col4, #T_37c97_row3_col1, #T_37c97_row3_col2 {\n",
       "  background-color: #3b4cc0;\n",
       "  color: #f1f1f1;\n",
       "}\n",
       "#T_37c97_row1_col2 {\n",
       "  background-color: #6282ea;\n",
       "  color: #f1f1f1;\n",
       "}\n",
       "#T_37c97_row1_col4 {\n",
       "  background-color: #3e51c5;\n",
       "  color: #f1f1f1;\n",
       "}\n",
       "#T_37c97_row2_col0 {\n",
       "  background-color: #4e68d8;\n",
       "  color: #f1f1f1;\n",
       "}\n",
       "#T_37c97_row2_col1 {\n",
       "  background-color: #799cf8;\n",
       "  color: #f1f1f1;\n",
       "}\n",
       "#T_37c97_row2_col3 {\n",
       "  background-color: #516ddb;\n",
       "  color: #f1f1f1;\n",
       "}\n",
       "#T_37c97_row3_col0 {\n",
       "  background-color: #f6bea4;\n",
       "  color: #000000;\n",
       "}\n",
       "#T_37c97_row3_col4 {\n",
       "  background-color: #eed0c0;\n",
       "  color: #000000;\n",
       "}\n",
       "#T_37c97_row4_col0 {\n",
       "  background-color: #c83836;\n",
       "  color: #f1f1f1;\n",
       "}\n",
       "#T_37c97_row4_col1 {\n",
       "  background-color: #9dbdff;\n",
       "  color: #000000;\n",
       "}\n",
       "#T_37c97_row4_col2 {\n",
       "  background-color: #84a7fc;\n",
       "  color: #f1f1f1;\n",
       "}\n",
       "#T_37c97_row4_col3 {\n",
       "  background-color: #f7ad90;\n",
       "  color: #000000;\n",
       "}\n",
       "</style>\n",
       "<table id=\"T_37c97_\">\n",
       "  <thead>\n",
       "    <tr>\n",
       "      <th class=\"blank level0\" >&nbsp;</th>\n",
       "      <th class=\"col_heading level0 col0\" >qtKill</th>\n",
       "      <th class=\"col_heading level0 col1\" >qtAssist</th>\n",
       "      <th class=\"col_heading level0 col2\" >qtDeath</th>\n",
       "      <th class=\"col_heading level0 col3\" >qtHs</th>\n",
       "      <th class=\"col_heading level0 col4\" >vlDamage</th>\n",
       "    </tr>\n",
       "  </thead>\n",
       "  <tbody>\n",
       "    <tr>\n",
       "      <th id=\"T_37c97_level0_row0\" class=\"row_heading level0 row0\" >qtKill</th>\n",
       "      <td id=\"T_37c97_row0_col0\" class=\"data row0 col0\" >1.000000</td>\n",
       "      <td id=\"T_37c97_row0_col1\" class=\"data row0 col1\" >0.243858</td>\n",
       "      <td id=\"T_37c97_row0_col2\" class=\"data row0 col2\" >0.293997</td>\n",
       "      <td id=\"T_37c97_row0_col3\" class=\"data row0 col3\" >0.734080</td>\n",
       "      <td id=\"T_37c97_row0_col4\" class=\"data row0 col4\" >0.955880</td>\n",
       "    </tr>\n",
       "    <tr>\n",
       "      <th id=\"T_37c97_level0_row1\" class=\"row_heading level0 row1\" >qtAssist</th>\n",
       "      <td id=\"T_37c97_row1_col0\" class=\"data row1 col0\" >0.243858</td>\n",
       "      <td id=\"T_37c97_row1_col1\" class=\"data row1 col1\" >1.000000</td>\n",
       "      <td id=\"T_37c97_row1_col2\" class=\"data row1 col2\" >0.316440</td>\n",
       "      <td id=\"T_37c97_row1_col3\" class=\"data row1 col3\" >0.152456</td>\n",
       "      <td id=\"T_37c97_row1_col4\" class=\"data row1 col4\" >0.403197</td>\n",
       "    </tr>\n",
       "    <tr>\n",
       "      <th id=\"T_37c97_level0_row2\" class=\"row_heading level0 row2\" >qtDeath</th>\n",
       "      <td id=\"T_37c97_row2_col0\" class=\"data row2 col0\" >0.293997</td>\n",
       "      <td id=\"T_37c97_row2_col1\" class=\"data row2 col1\" >0.316440</td>\n",
       "      <td id=\"T_37c97_row2_col2\" class=\"data row2 col2\" >1.000000</td>\n",
       "      <td id=\"T_37c97_row2_col3\" class=\"data row2 col3\" >0.217032</td>\n",
       "      <td id=\"T_37c97_row2_col4\" class=\"data row2 col4\" >0.394373</td>\n",
       "    </tr>\n",
       "    <tr>\n",
       "      <th id=\"T_37c97_level0_row3\" class=\"row_heading level0 row3\" >qtHs</th>\n",
       "      <td id=\"T_37c97_row3_col0\" class=\"data row3 col0\" >0.734080</td>\n",
       "      <td id=\"T_37c97_row3_col1\" class=\"data row3 col1\" >0.152456</td>\n",
       "      <td id=\"T_37c97_row3_col2\" class=\"data row3 col2\" >0.217032</td>\n",
       "      <td id=\"T_37c97_row3_col3\" class=\"data row3 col3\" >1.000000</td>\n",
       "      <td id=\"T_37c97_row3_col4\" class=\"data row3 col4\" >0.743856</td>\n",
       "    </tr>\n",
       "    <tr>\n",
       "      <th id=\"T_37c97_level0_row4\" class=\"row_heading level0 row4\" >vlDamage</th>\n",
       "      <td id=\"T_37c97_row4_col0\" class=\"data row4 col0\" >0.955880</td>\n",
       "      <td id=\"T_37c97_row4_col1\" class=\"data row4 col1\" >0.403197</td>\n",
       "      <td id=\"T_37c97_row4_col2\" class=\"data row4 col2\" >0.394373</td>\n",
       "      <td id=\"T_37c97_row4_col3\" class=\"data row4 col3\" >0.743856</td>\n",
       "      <td id=\"T_37c97_row4_col4\" class=\"data row4 col4\" >1.000000</td>\n",
       "    </tr>\n",
       "  </tbody>\n",
       "</table>\n"
      ],
      "text/plain": [
       "<pandas.io.formats.style.Styler at 0x7f1930673c50>"
      ]
     },
     "execution_count": 3,
     "metadata": {},
     "output_type": "execute_result"
    }
   ],
   "source": [
    "datafilter = data[['qtKill', 'qtAssist','qtDeath', 'qtHs', 'vlDamage']]\n",
    "corr = datafilter.corr()\n",
    "corr.style.background_gradient(cmap='coolwarm')"
   ]
  },
  {
   "cell_type": "code",
   "execution_count": 4,
   "id": "26633d38",
   "metadata": {
    "_cell_guid": "e55e4fb0-d731-4f57-b483-1029cc5715f5",
    "_uuid": "14770936-4e01-4f50-8916-3b87222e6dd4",
    "collapsed": false,
    "execution": {
     "iopub.execute_input": "2022-03-28T18:13:13.782280Z",
     "iopub.status.busy": "2022-03-28T18:13:13.774956Z",
     "iopub.status.idle": "2022-03-28T18:13:14.167284Z",
     "shell.execute_reply": "2022-03-28T18:13:14.167837Z",
     "shell.execute_reply.started": "2022-03-28T18:11:36.289587Z"
    },
    "jupyter": {
     "outputs_hidden": false
    },
    "papermill": {
     "duration": 0.420886,
     "end_time": "2022-03-28T18:13:14.168065",
     "exception": false,
     "start_time": "2022-03-28T18:13:13.747179",
     "status": "completed"
    },
    "tags": []
   },
   "outputs": [
    {
     "data": {
      "text/plain": [
       "<AxesSubplot:>"
      ]
     },
     "execution_count": 4,
     "metadata": {},
     "output_type": "execute_result"
    },
    {
     "data": {
      "image/png": "[encoded data removed]",
      "text/plain": [
       "<Figure size 1080x720 with 2 Axes>"
      ]
     },
     "metadata": {
      "needs_background": "light"
     },
     "output_type": "display_data"
    }
   ],
   "source": [
    "f, ax = plt.subplots(figsize=(15, 10))\n",
    "sns.heatmap(datafilter.corr(), cmap=\"Greens\",annot=True)"
   ]
  },
  {
   "cell_type": "code",
   "execution_count": 5,
   "id": "e2e6adbf",
   "metadata": {
    "_cell_guid": "b59281ef-f446-47c2-914d-13a9b416c6d6",
    "_uuid": "e9858de6-8d4f-42f5-ab24-bd1b8ed8a53b",
    "collapsed": false,
    "execution": {
     "iopub.execute_input": "2022-03-28T18:13:14.242444Z",
     "iopub.status.busy": "2022-03-28T18:13:14.230757Z",
     "iopub.status.idle": "2022-03-28T18:13:41.940301Z",
     "shell.execute_reply": "2022-03-28T18:13:41.940828Z",
     "shell.execute_reply.started": "2022-03-28T18:11:36.631661Z"
    },
    "jupyter": {
     "outputs_hidden": false
    },
    "papermill": {
     "duration": 27.744939,
     "end_time": "2022-03-28T18:13:41.941025",
     "exception": false,
     "start_time": "2022-03-28T18:13:14.196086",
     "status": "completed"
    },
    "tags": []
   },
   "outputs": [
    {
     "data": {
      "image/png": "[encoded data removed]",
      "text/plain": [
       "<Figure size 1080x720 with 1 Axes>"
      ]
     },
     "metadata": {
      "needs_background": "light"
     },
     "output_type": "display_data"
    }
   ],
   "source": [
    "f, ax = plt.subplots(figsize=(15, 10))\n",
    "sns.regplot(x=data['qtKill'], y=data['qtHs'], data=data, scatter_kws={\"color\": \"black\"}, line_kws={\"color\": \"red\"})\n",
    "plt.title(\"Gráfico Kill - HS\")\n",
    "plt.xlabel('Kills' )\n",
    "plt.ylabel(\"HS\")\n",
    "plt.show()"
   ]
  },
  {
   "cell_type": "code",
   "execution_count": 6,
   "id": "fa3521fa",
   "metadata": {
    "_cell_guid": "590e2cd0-9ab6-4a43-b633-30772b05ec25",
    "_uuid": "5981cb44-b311-4cae-aa27-92c85d26e852",
    "collapsed": false,
    "execution": {
     "iopub.execute_input": "2022-03-28T18:13:42.026158Z",
     "iopub.status.busy": "2022-03-28T18:13:42.015282Z",
     "iopub.status.idle": "2022-03-28T18:14:09.479576Z",
     "shell.execute_reply": "2022-03-28T18:14:09.480115Z",
     "shell.execute_reply.started": "2022-03-28T18:11:51.379907Z"
    },
    "jupyter": {
     "outputs_hidden": false
    },
    "papermill": {
     "duration": 27.510286,
     "end_time": "2022-03-28T18:14:09.480285",
     "exception": false,
     "start_time": "2022-03-28T18:13:41.969999",
     "status": "completed"
    },
    "tags": []
   },
   "outputs": [
    {
     "data": {
      "text/plain": [
       "Text(0, 0.5, 'HS')"
      ]
     },
     "execution_count": 6,
     "metadata": {},
     "output_type": "execute_result"
    },
    {
     "data": {
      "image/png": "[encoded data removed]",
      "text/plain": [
       "<Figure size 1080x720 with 1 Axes>"
      ]
     },
     "metadata": {
      "needs_background": "light"
     },
     "output_type": "display_data"
    }
   ],
   "source": [
    "f, ax = plt.subplots(figsize=(15, 10))\n",
    "sns.regplot(x=data['qtKill'], y=data['vlDamage'], data=data, scatter_kws={\"color\": \"black\"}, line_kws={\"color\": \"red\"})\n",
    "plt.title(\"Gráfico Kill - Damage\")\n",
    "plt.xlabel('Kills' )\n",
    "plt.ylabel(\"HS\")"
   ]
  },
  {
   "cell_type": "code",
   "execution_count": 7,
   "id": "24ef6827",
   "metadata": {
    "_cell_guid": "c120e885-6e3d-4cbb-bbc8-064f76c8a886",
    "_uuid": "d4cb2977-c2c4-4fca-b1e6-63d1d2866b18",
    "collapsed": false,
    "execution": {
     "iopub.execute_input": "2022-03-28T18:14:09.546068Z",
     "iopub.status.busy": "2022-03-28T18:14:09.545092Z",
     "iopub.status.idle": "2022-03-28T18:14:09.776913Z",
     "shell.execute_reply": "2022-03-28T18:14:09.777435Z",
     "shell.execute_reply.started": "2022-03-28T18:12:06.622827Z"
    },
    "jupyter": {
     "outputs_hidden": false
    },
    "papermill": {
     "duration": 0.266398,
     "end_time": "2022-03-28T18:14:09.777632",
     "exception": false,
     "start_time": "2022-03-28T18:14:09.511234",
     "status": "completed"
    },
    "tags": []
   },
   "outputs": [
    {
     "data": {
      "image/png": "[encoded data removed]",
      "text/plain": [
       "<Figure size 1080x720 with 1 Axes>"
      ]
     },
     "metadata": {
      "needs_background": "light"
     },
     "output_type": "display_data"
    }
   ],
   "source": [
    "plt.figure(figsize= (15, 10))\n",
    "plt.hist(data['qtDeath'], color = \"skyblue\")\n",
    "plt.title(\"Histrogram Death By Match\")\n",
    "plt.show()"
   ]
  },
  {
   "cell_type": "code",
   "execution_count": 8,
   "id": "4296ce29",
   "metadata": {
    "_cell_guid": "61ef3fad-d704-43c5-93fc-92b202e1b088",
    "_uuid": "c1b94e7f-6d00-4b29-960a-2881af88a773",
    "collapsed": false,
    "execution": {
     "iopub.execute_input": "2022-03-28T18:14:09.868660Z",
     "iopub.status.busy": "2022-03-28T18:14:09.862641Z",
     "iopub.status.idle": "2022-03-28T18:14:10.072402Z",
     "shell.execute_reply": "2022-03-28T18:14:10.072978Z",
     "shell.execute_reply.started": "2022-03-28T18:12:06.817455Z"
    },
    "jupyter": {
     "outputs_hidden": false
    },
    "papermill": {
     "duration": 0.2636,
     "end_time": "2022-03-28T18:14:10.073156",
     "exception": false,
     "start_time": "2022-03-28T18:14:09.809556",
     "status": "completed"
    },
    "tags": []
   },
   "outputs": [
    {
     "data": {
      "image/png": "[encoded data removed]",
      "text/plain": [
       "<Figure size 1080x720 with 1 Axes>"
      ]
     },
     "metadata": {
      "needs_background": "light"
     },
     "output_type": "display_data"
    }
   ],
   "source": [
    "plt.figure(figsize= (15, 10))\n",
    "plt.hist(data['qtHs'], color = \"black\", ec=\"black\")\n",
    "plt.title(\"Histrogram HS By Match\")\n",
    "plt.show()"
   ]
  },
  {
   "cell_type": "markdown",
   "id": "b6ac9438",
   "metadata": {
    "_cell_guid": "5ab8423b-13a9-4778-9530-995fd34c2994",
    "_uuid": "7d6a2d67-60af-4c20-bddf-54e72b89b762",
    "papermill": {
     "duration": 0.032725,
     "end_time": "2022-03-28T18:14:10.138938",
     "exception": false,
     "start_time": "2022-03-28T18:14:10.106213",
     "status": "completed"
    },
    "tags": []
   },
   "source": [
    "### Agora que sabamos as variáveis que melhor se correlacionam com a variável dependente, vamos separar a nossa base de dados em 80% para treino do modelo e 20% para realizarmos previsões e avaliarmos a precisão do modelo"
   ]
  },
  {
   "cell_type": "code",
   "execution_count": 9,
   "id": "66ed0283",
   "metadata": {
    "_cell_guid": "ff261103-07a1-47da-b447-8196b2a7319b",
    "_uuid": "2c5478d0-d815-4bc5-92d7-84d70a761948",
    "collapsed": false,
    "execution": {
     "iopub.execute_input": "2022-03-28T18:14:10.208329Z",
     "iopub.status.busy": "2022-03-28T18:14:10.207623Z",
     "iopub.status.idle": "2022-03-28T18:14:10.228585Z",
     "shell.execute_reply": "2022-03-28T18:14:10.229151Z",
     "shell.execute_reply.started": "2022-03-28T18:12:07.007636Z"
    },
    "jupyter": {
     "outputs_hidden": false
    },
    "papermill": {
     "duration": 0.057124,
     "end_time": "2022-03-28T18:14:10.229328",
     "exception": false,
     "start_time": "2022-03-28T18:14:10.172204",
     "status": "completed"
    },
    "tags": []
   },
   "outputs": [],
   "source": [
    "xcs = data[['qtHs','vlDamage']]\n",
    "ycs = data['qtKill']\n",
    "\n",
    "x_traincs, x_testcs, y_traincs, y_testcs = train_test_split(xcs,ycs, test_size=0.2)"
   ]
  },
  {
   "cell_type": "code",
   "execution_count": 10,
   "id": "43ec02c6",
   "metadata": {
    "_cell_guid": "743afdb6-424c-4077-8507-34b6b8504054",
    "_uuid": "35052816-84cc-4fd7-af05-498d57d5c461",
    "collapsed": false,
    "execution": {
     "iopub.execute_input": "2022-03-28T18:14:10.299144Z",
     "iopub.status.busy": "2022-03-28T18:14:10.298373Z",
     "iopub.status.idle": "2022-03-28T18:14:10.338432Z",
     "shell.execute_reply": "2022-03-28T18:14:10.339434Z",
     "shell.execute_reply.started": "2022-03-28T18:12:07.032651Z"
    },
    "jupyter": {
     "outputs_hidden": false
    },
    "papermill": {
     "duration": 0.07661,
     "end_time": "2022-03-28T18:14:10.339749",
     "exception": false,
     "start_time": "2022-03-28T18:14:10.263139",
     "status": "completed"
    },
    "tags": []
   },
   "outputs": [],
   "source": [
    "linear = LinearRegression().fit(x_traincs, y_traincs)\n",
    "predictioncs = linear.predict(x_testcs)"
   ]
  },
  {
   "cell_type": "markdown",
   "id": "23f44a1a",
   "metadata": {
    "_cell_guid": "ceaf1d83-0a76-4a23-91e5-d4fb811acd1a",
    "_uuid": "b05cfe31-fc55-45ef-ad6f-5aeaaf2e4353",
    "papermill": {
     "duration": 0.054176,
     "end_time": "2022-03-28T18:14:10.455946",
     "exception": false,
     "start_time": "2022-03-28T18:14:10.401770",
     "status": "completed"
    },
    "tags": []
   },
   "source": [
    "### Com o modelo treinado, podemos ver o coeficiente de determinação (ou R^2) para medirmos o grau de precisão que o modelo apresentou na base de dados de treino."
   ]
  },
  {
   "cell_type": "code",
   "execution_count": 11,
   "id": "4b085678",
   "metadata": {
    "_cell_guid": "416b426b-5011-494e-800e-ee1bb813e0a4",
    "_uuid": "c9d7da08-c2a5-45c4-be56-c6bc3a328775",
    "collapsed": false,
    "execution": {
     "iopub.execute_input": "2022-03-28T18:14:10.528606Z",
     "iopub.status.busy": "2022-03-28T18:14:10.527353Z",
     "iopub.status.idle": "2022-03-28T18:14:10.537139Z",
     "shell.execute_reply": "2022-03-28T18:14:10.538194Z",
     "shell.execute_reply.started": "2022-03-28T18:12:07.066536Z"
    },
    "jupyter": {
     "outputs_hidden": false
    },
    "papermill": {
     "duration": 0.050231,
     "end_time": "2022-03-28T18:14:10.538482",
     "exception": false,
     "start_time": "2022-03-28T18:14:10.488251",
     "status": "completed"
    },
    "tags": []
   },
   "outputs": [
    {
     "data": {
      "text/plain": [
       "0.9152260561271012"
      ]
     },
     "execution_count": 11,
     "metadata": {},
     "output_type": "execute_result"
    }
   ],
   "source": [
    "linear.score(x_traincs, y_traincs)"
   ]
  },
  {
   "cell_type": "markdown",
   "id": "141ef64f",
   "metadata": {
    "_cell_guid": "63c38166-57a3-4781-9fb3-b20f5bb0b110",
    "_uuid": "c4a4359a-f5cc-4116-b47f-d396737b15df",
    "papermill": {
     "duration": 0.057398,
     "end_time": "2022-03-28T18:14:10.659431",
     "exception": false,
     "start_time": "2022-03-28T18:14:10.602033",
     "status": "completed"
    },
    "tags": []
   },
   "source": [
    "### Também podemos montar um dataframe com os valores verdadeiros(esperados) e os valores que foram preditos pelo modelo, e assim termos uma noção do grau de diferença que o modelo está apresentando com os números reais."
   ]
  },
  {
   "cell_type": "code",
   "execution_count": 12,
   "id": "2d9a5408",
   "metadata": {
    "_cell_guid": "99937da6-3e84-429a-8a37-f052f14b9b93",
    "_uuid": "857ec87d-45dc-490a-9aff-df8dcb2459b5",
    "collapsed": false,
    "execution": {
     "iopub.execute_input": "2022-03-28T18:14:10.734639Z",
     "iopub.status.busy": "2022-03-28T18:14:10.733527Z",
     "iopub.status.idle": "2022-03-28T18:14:10.750055Z",
     "shell.execute_reply": "2022-03-28T18:14:10.750619Z",
     "shell.execute_reply.started": "2022-03-28T18:12:07.084865Z"
    },
    "jupyter": {
     "outputs_hidden": false
    },
    "papermill": {
     "duration": 0.055987,
     "end_time": "2022-03-28T18:14:10.750800",
     "exception": false,
     "start_time": "2022-03-28T18:14:10.694813",
     "status": "completed"
    },
    "tags": []
   },
   "outputs": [
    {
     "data": {
      "text/html": [
       "<div>\n",
       "<style scoped>\n",
       "    .dataframe tbody tr th:only-of-type {\n",
       "        vertical-align: middle;\n",
       "    }\n",
       "\n",
       "    .dataframe tbody tr th {\n",
       "        vertical-align: top;\n",
       "    }\n",
       "\n",
       "    .dataframe thead th {\n",
       "        text-align: right;\n",
       "    }\n",
       "</style>\n",
       "<table border=\"1\" class=\"dataframe\">\n",
       "  <thead>\n",
       "    <tr style=\"text-align: right;\">\n",
       "      <th></th>\n",
       "      <th>Y_test</th>\n",
       "      <th>Prediction</th>\n",
       "      <th>Diference Between Y_test and Prediction</th>\n",
       "    </tr>\n",
       "  </thead>\n",
       "  <tbody>\n",
       "    <tr>\n",
       "      <th>146130</th>\n",
       "      <td>5</td>\n",
       "      <td>3.968064</td>\n",
       "      <td>-1.031936</td>\n",
       "    </tr>\n",
       "    <tr>\n",
       "      <th>99238</th>\n",
       "      <td>8</td>\n",
       "      <td>9.804006</td>\n",
       "      <td>1.804006</td>\n",
       "    </tr>\n",
       "    <tr>\n",
       "      <th>1250</th>\n",
       "      <td>26</td>\n",
       "      <td>23.950134</td>\n",
       "      <td>-2.049866</td>\n",
       "    </tr>\n",
       "    <tr>\n",
       "      <th>55258</th>\n",
       "      <td>27</td>\n",
       "      <td>25.602181</td>\n",
       "      <td>-1.397819</td>\n",
       "    </tr>\n",
       "    <tr>\n",
       "      <th>112457</th>\n",
       "      <td>18</td>\n",
       "      <td>14.955372</td>\n",
       "      <td>-3.044628</td>\n",
       "    </tr>\n",
       "    <tr>\n",
       "      <th>...</th>\n",
       "      <td>...</td>\n",
       "      <td>...</td>\n",
       "      <td>...</td>\n",
       "    </tr>\n",
       "    <tr>\n",
       "      <th>129129</th>\n",
       "      <td>27</td>\n",
       "      <td>28.057032</td>\n",
       "      <td>1.057032</td>\n",
       "    </tr>\n",
       "    <tr>\n",
       "      <th>13785</th>\n",
       "      <td>15</td>\n",
       "      <td>15.919093</td>\n",
       "      <td>0.919093</td>\n",
       "    </tr>\n",
       "    <tr>\n",
       "      <th>79498</th>\n",
       "      <td>22</td>\n",
       "      <td>17.553867</td>\n",
       "      <td>-4.446133</td>\n",
       "    </tr>\n",
       "    <tr>\n",
       "      <th>57073</th>\n",
       "      <td>22</td>\n",
       "      <td>23.645080</td>\n",
       "      <td>1.645080</td>\n",
       "    </tr>\n",
       "    <tr>\n",
       "      <th>121766</th>\n",
       "      <td>20</td>\n",
       "      <td>21.549629</td>\n",
       "      <td>1.549629</td>\n",
       "    </tr>\n",
       "  </tbody>\n",
       "</table>\n",
       "<p>36831 rows × 3 columns</p>\n",
       "</div>"
      ],
      "text/plain": [
       "        Y_test  Prediction  Diference Between Y_test and Prediction\n",
       "146130       5    3.968064                                -1.031936\n",
       "99238        8    9.804006                                 1.804006\n",
       "1250        26   23.950134                                -2.049866\n",
       "55258       27   25.602181                                -1.397819\n",
       "112457      18   14.955372                                -3.044628\n",
       "...        ...         ...                                      ...\n",
       "129129      27   28.057032                                 1.057032\n",
       "13785       15   15.919093                                 0.919093\n",
       "79498       22   17.553867                                -4.446133\n",
       "57073       22   23.645080                                 1.645080\n",
       "121766      20   21.549629                                 1.549629\n",
       "\n",
       "[36831 rows x 3 columns]"
      ]
     },
     "metadata": {},
     "output_type": "display_data"
    }
   ],
   "source": [
    "compcs = pd.DataFrame(y_testcs)\n",
    "compcs.columns = ['Y_test']\n",
    "compcs['Prediction'] = predictioncs\n",
    "compcs['Diference Between Y_test and Prediction'] = compcs['Prediction'] - compcs['Y_test']\n",
    "display(compcs)"
   ]
  },
  {
   "cell_type": "code",
   "execution_count": 13,
   "id": "c18c1f3e",
   "metadata": {
    "_cell_guid": "aa82ffbd-9740-441d-8405-8f26fa404a7b",
    "_uuid": "d12a3b51-7f09-48d5-84ad-954f93282d8c",
    "collapsed": false,
    "execution": {
     "iopub.execute_input": "2022-03-28T18:14:10.822796Z",
     "iopub.status.busy": "2022-03-28T18:14:10.821782Z",
     "iopub.status.idle": "2022-03-28T18:14:10.844402Z",
     "shell.execute_reply": "2022-03-28T18:14:10.845020Z",
     "shell.execute_reply.started": "2022-03-28T18:12:07.104726Z"
    },
    "jupyter": {
     "outputs_hidden": false
    },
    "papermill": {
     "duration": 0.060427,
     "end_time": "2022-03-28T18:14:10.845210",
     "exception": false,
     "start_time": "2022-03-28T18:14:10.784783",
     "status": "completed"
    },
    "tags": []
   },
   "outputs": [
    {
     "data": {
      "text/html": [
       "<div>\n",
       "<style scoped>\n",
       "    .dataframe tbody tr th:only-of-type {\n",
       "        vertical-align: middle;\n",
       "    }\n",
       "\n",
       "    .dataframe tbody tr th {\n",
       "        vertical-align: top;\n",
       "    }\n",
       "\n",
       "    .dataframe thead th {\n",
       "        text-align: right;\n",
       "    }\n",
       "</style>\n",
       "<table border=\"1\" class=\"dataframe\">\n",
       "  <thead>\n",
       "    <tr style=\"text-align: right;\">\n",
       "      <th></th>\n",
       "      <th>Y_test</th>\n",
       "      <th>Prediction</th>\n",
       "      <th>Diference Between Y_test and Prediction</th>\n",
       "    </tr>\n",
       "  </thead>\n",
       "  <tbody>\n",
       "    <tr>\n",
       "      <th>count</th>\n",
       "      <td>36831.000000</td>\n",
       "      <td>36831.000000</td>\n",
       "      <td>36831.000000</td>\n",
       "    </tr>\n",
       "    <tr>\n",
       "      <th>mean</th>\n",
       "      <td>19.068013</td>\n",
       "      <td>19.073404</td>\n",
       "      <td>0.005391</td>\n",
       "    </tr>\n",
       "    <tr>\n",
       "      <th>std</th>\n",
       "      <td>7.409533</td>\n",
       "      <td>7.079304</td>\n",
       "      <td>2.178804</td>\n",
       "    </tr>\n",
       "    <tr>\n",
       "      <th>min</th>\n",
       "      <td>0.000000</td>\n",
       "      <td>-1.161872</td>\n",
       "      <td>-11.441815</td>\n",
       "    </tr>\n",
       "    <tr>\n",
       "      <th>25%</th>\n",
       "      <td>14.000000</td>\n",
       "      <td>14.408450</td>\n",
       "      <td>-1.404050</td>\n",
       "    </tr>\n",
       "    <tr>\n",
       "      <th>50%</th>\n",
       "      <td>19.000000</td>\n",
       "      <td>18.685597</td>\n",
       "      <td>0.000102</td>\n",
       "    </tr>\n",
       "    <tr>\n",
       "      <th>75%</th>\n",
       "      <td>24.000000</td>\n",
       "      <td>23.256022</td>\n",
       "      <td>1.442526</td>\n",
       "    </tr>\n",
       "    <tr>\n",
       "      <th>max</th>\n",
       "      <td>69.000000</td>\n",
       "      <td>66.500467</td>\n",
       "      <td>11.304392</td>\n",
       "    </tr>\n",
       "  </tbody>\n",
       "</table>\n",
       "</div>"
      ],
      "text/plain": [
       "             Y_test    Prediction  Diference Between Y_test and Prediction\n",
       "count  36831.000000  36831.000000                             36831.000000\n",
       "mean      19.068013     19.073404                                 0.005391\n",
       "std        7.409533      7.079304                                 2.178804\n",
       "min        0.000000     -1.161872                               -11.441815\n",
       "25%       14.000000     14.408450                                -1.404050\n",
       "50%       19.000000     18.685597                                 0.000102\n",
       "75%       24.000000     23.256022                                 1.442526\n",
       "max       69.000000     66.500467                                11.304392"
      ]
     },
     "execution_count": 13,
     "metadata": {},
     "output_type": "execute_result"
    }
   ],
   "source": [
    "compcs.describe()"
   ]
  },
  {
   "cell_type": "code",
   "execution_count": 14,
   "id": "20b065d8",
   "metadata": {
    "_cell_guid": "5f8b2807-a1fd-4cee-8ac2-22ff739f6b4e",
    "_uuid": "00861316-5096-43fd-b4ee-09db8b294921",
    "collapsed": false,
    "execution": {
     "iopub.execute_input": "2022-03-28T18:14:10.919541Z",
     "iopub.status.busy": "2022-03-28T18:14:10.918902Z",
     "iopub.status.idle": "2022-03-28T18:14:10.930963Z",
     "shell.execute_reply": "2022-03-28T18:14:10.932079Z",
     "shell.execute_reply.started": "2022-03-28T18:12:07.129703Z"
    },
    "jupyter": {
     "outputs_hidden": false
    },
    "papermill": {
     "duration": 0.05123,
     "end_time": "2022-03-28T18:14:10.932370",
     "exception": false,
     "start_time": "2022-03-28T18:14:10.881140",
     "status": "completed"
    },
    "tags": []
   },
   "outputs": [
    {
     "data": {
      "text/plain": [
       "0.9135316106960453"
      ]
     },
     "execution_count": 14,
     "metadata": {},
     "output_type": "execute_result"
    }
   ],
   "source": [
    "linear.score(x_testcs, y_testcs)"
   ]
  },
  {
   "cell_type": "code",
   "execution_count": 15,
   "id": "7a650548",
   "metadata": {
    "_cell_guid": "c8509f07-16a6-4bc3-8bdf-44996ad23473",
    "_uuid": "4e349b1b-ac24-4a50-aaba-43d51820edd3",
    "collapsed": false,
    "execution": {
     "iopub.execute_input": "2022-03-28T18:14:11.069753Z",
     "iopub.status.busy": "2022-03-28T18:14:11.061399Z",
     "iopub.status.idle": "2022-03-28T18:14:11.327874Z",
     "shell.execute_reply": "2022-03-28T18:14:11.327303Z",
     "shell.execute_reply.started": "2022-03-28T18:12:07.144737Z"
    },
    "jupyter": {
     "outputs_hidden": false
    },
    "papermill": {
     "duration": 0.329132,
     "end_time": "2022-03-28T18:14:11.328016",
     "exception": false,
     "start_time": "2022-03-28T18:14:10.998884",
     "status": "completed"
    },
    "tags": []
   },
   "outputs": [
    {
     "data": {
      "image/png": "[encoded data removed]",
      "text/plain": [
       "<Figure size 432x288 with 1 Axes>"
      ]
     },
     "metadata": {
      "needs_background": "light"
     },
     "output_type": "display_data"
    }
   ],
   "source": [
    "fig, ax = plt.subplots()\n",
    "ax.scatter(compcs['Prediction'], compcs['Y_test'], color = \"black\")\n",
    "plt.title(\"Gráfico Predições - Y_Test\")\n",
    "plt.xlabel(\"predições\" )\n",
    "plt.ylabel(\"Y_test\")\n",
    "plt.show()"
   ]
  },
  {
   "cell_type": "markdown",
   "id": "3d34991f",
   "metadata": {
    "_cell_guid": "a420ec2a-150f-40ff-afd7-b04f41bd0c90",
    "_uuid": "7e301c44-7244-46c8-b20e-6967796dbe3b",
    "papermill": {
     "duration": 0.035975,
     "end_time": "2022-03-28T18:14:11.399889",
     "exception": false,
     "start_time": "2022-03-28T18:14:11.363914",
     "status": "completed"
    },
    "tags": []
   },
   "source": [
    "### Como vemos no gráfico acima, o modelo está conseguindo prever a variável dependente(resposta) com uma grande precisão, aproximadamnte 91,5%. Isso significa que o modelo linear explica 91,5% da variância da variável dependente a partir do regressores (variáveis independentes) incluídas no modelo linear."
   ]
  }
 ],
 "metadata": {
  "kernelspec": {
   "display_name": "Python 3",
   "language": "python",
   "name": "python3"
  },
  "language_info": {
   "codemirror_mode": {
    "name": "ipython",
    "version": 3
   },
   "file_extension": ".py",
   "mimetype": "text/x-python",
   "name": "python",
   "nbconvert_exporter": "python",
   "pygments_lexer": "ipython3",
   "version": "3.7.12"
  },
  "papermill": {
   "default_parameters": {},
   "duration": 72.202285,
   "end_time": "2022-03-28T18:14:12.247427",
   "environment_variables": {},
   "exception": null,
   "input_path": "__notebook__.ipynb",
   "output_path": "__notebook__.ipynb",
   "parameters": {},
   "start_time": "2022-03-28T18:13:00.045142",
   "version": "2.3.3"
  }
 },
 "nbformat": 4,
 "nbformat_minor": 5
}
